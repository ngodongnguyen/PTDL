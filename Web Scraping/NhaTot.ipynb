{
 "cells": [
  {
   "cell_type": "markdown",
   "metadata": {},
   "source": [
    "# Cài đặt các thư viện cần thiết để cào dữ liệu"
   ]
  },
  {
   "cell_type": "code",
   "execution_count": null,
   "metadata": {},
   "outputs": [],
   "source": [
    "%pip install requests-html beautifulsoup4 pandas numpy lxml lxml_html_clean nest_asyncio pyppeteer requests selenium cloudscraper selenium webdriver-manager unidecode"
   ]
  },
  {
   "cell_type": "code",
   "execution_count": 1,
   "metadata": {},
   "outputs": [],
   "source": [
    "import pandas as pd \n",
    "import numpy as np\n",
    "from selenium import webdriver\n",
    "from selenium.webdriver.common.by import By\n",
    "from bs4 import BeautifulSoup\n",
    "import time\n",
    "from unidecode import unidecode\n",
    "import json\n",
    "import cloudscraper\n",
    "import requests\n",
    "from  module.data_collector import getdata\n",
    "from  module.data_collector import savedata,get_product_links"
   ]
  },
  {
   "cell_type": "markdown",
   "metadata": {},
   "source": [
    "# Cào link"
   ]
  },
  {
   "cell_type": "code",
   "execution_count": null,
   "metadata": {},
   "outputs": [],
   "source": [
    "# df = get_product_links(801)\n",
    "# df=df.drop_duplicates()\n",
    "# df = df.reset_index(drop=True)\n",
    "# df.to_csv('../data/chotot_links_4.csv', index=False)"
   ]
  },
  {
   "cell_type": "markdown",
   "metadata": {},
   "source": [
    "# Cào dữ liệu"
   ]
  },
  {
   "cell_type": "code",
   "execution_count": 6,
   "metadata": {},
   "outputs": [],
   "source": [
    "start_row = 16901 #chạy từ dòng start_row đến end_row\n",
    "end_row = 17001\n",
    "df = pd.read_csv('../data/chotot_links.csv', skiprows=range(1, start_row), nrows=end_row-start_row)\n",
    "links = df['links'].tolist()  # Giả sử cột chứa các liên kết có tên là 'link'"
   ]
  },
  {
   "cell_type": "code",
   "execution_count": null,
   "metadata": {},
   "outputs": [],
   "source": [
    "savedata(links, getdata)\n"
   ]
  },
  {
   "cell_type": "code",
   "execution_count": 32,
   "metadata": {},
   "outputs": [
    {
     "name": "stdout",
     "output_type": "stream",
     "text": [
      "Gộp file thành công!\n"
     ]
    }
   ],
   "source": [
    "import json\n",
    "import os\n",
    "\n",
    "# Đường dẫn đến các file JSON cần gộp\n",
    "file_paths = ['data_1_1000.json','data_1001_2000.json','data_2001_3000.json','data_3001_4000.json','data_4001_5000.json' ,'data_5001_6000.json','data_6001_7000.json','data_7001_8000.json','data_8001_9000.json','data_9001_10000.json','data_10001_11000.json','data_11001_12000.json','data_12001_13000.json','data_13001_14000.json','data_14001_15000.json','data_15001_16000.json','data_16001_17000.json', 'data_17001_17230.json']\n",
    "\n",
    "# Danh sách lưu trữ tất cả dữ liệu từ các file JSON\n",
    "merged_data = []\n",
    "\n",
    "# Đọc từng file JSON và thêm dữ liệu vào merged_data\n",
    "for file_path in file_paths:\n",
    "    with open(file_path, 'r', encoding='utf-8') as file:\n",
    "        data = json.load(file)\n",
    "        merged_data.extend(data)  # Hoặc có thể dùng `append` nếu không phải danh sách\n",
    "\n",
    "# Lưu dữ liệu gộp lại vào một file JSON mới\n",
    "with open('data.json', 'w', encoding='utf-8') as output_file:\n",
    "    json.dump(merged_data, output_file, ensure_ascii=False, indent=4)\n",
    "\n",
    "print(\"Gộp file thành công!\")\n"
   ]
  }
 ],
 "metadata": {
  "kernelspec": {
   "display_name": "Python 3",
   "language": "python",
   "name": "python3"
  },
  "language_info": {
   "codemirror_mode": {
    "name": "ipython",
    "version": 3
   },
   "file_extension": ".py",
   "mimetype": "text/x-python",
   "name": "python",
   "nbconvert_exporter": "python",
   "pygments_lexer": "ipython3",
   "version": "3.12.4"
  }
 },
 "nbformat": 4,
 "nbformat_minor": 2
}
