{
 "cells": [
  {
   "cell_type": "markdown",
   "metadata": {},
   "source": [
    "## Đọc dataframe và xóa bỏ các trùng lặp\n"
   ]
  },
  {
   "cell_type": "code",
   "execution_count": 1,
   "metadata": {},
   "outputs": [],
   "source": [
    "import pandas as pd\n",
    "import json\n",
    "from module.module import chuyen_chieu_ngang_sang_m,chuyen_dien_tich_sang_m2\n"
   ]
  },
  {
   "cell_type": "code",
   "execution_count": 2,
   "metadata": {},
   "outputs": [],
   "source": [
    "# Đọc file JSON vào DataFrame\n",
    "df = pd.read_json('../data/data.json')\n",
    "# Xóa các dòng trùng lặp\n",
    "df = df.drop_duplicates()\n",
    "\n",
    "# Đánh số thứ tự lại (reset index)\n",
    "df = df.reset_index(drop=True)\n",
    "\n",
    "\n"
   ]
  },
  {
   "cell_type": "markdown",
   "metadata": {},
   "source": [
    "### Kiểm tra xem có cột nào bị rỗng không"
   ]
  },
  {
   "cell_type": "code",
   "execution_count": 3,
   "metadata": {},
   "outputs": [
    {
     "name": "stdout",
     "output_type": "stream",
     "text": [
      "Các cột toàn bộ là NaN: []\n"
     ]
    }
   ],
   "source": [
    "na_full_cols = df.columns[df.isnull().all()]\n",
    "print(\"Các cột toàn bộ là NaN:\", na_full_cols.tolist())\n"
   ]
  },
  {
   "cell_type": "code",
   "execution_count": 4,
   "metadata": {},
   "outputs": [
    {
     "name": "stdout",
     "output_type": "stream",
     "text": [
      "(16991, 14)\n"
     ]
    }
   ],
   "source": [
    "print(df.shape)\n"
   ]
  },
  {
   "cell_type": "code",
   "execution_count": 5,
   "metadata": {},
   "outputs": [
    {
     "name": "stdout",
     "output_type": "stream",
     "text": [
      "<class 'pandas.core.frame.DataFrame'>\n",
      "RangeIndex: 16991 entries, 0 to 16990\n",
      "Data columns (total 14 columns):\n",
      " #   Column           Non-Null Count  Dtype  \n",
      "---  ------           --------------  -----  \n",
      " 0   DiaChi           16990 non-null  object \n",
      " 1   LoaiHinhDat      16990 non-null  object \n",
      " 2   DienTichDat      16990 non-null  object \n",
      " 3   Gia/M2           16971 non-null  object \n",
      " 4   GiayToPhapLy     16975 non-null  object \n",
      " 5   ChieuNgang       14240 non-null  object \n",
      " 6   ChieuDai         13152 non-null  object \n",
      " 7   DonVi(M2/Hecta)  10117 non-null  object \n",
      " 8   HuongDat         6206 non-null   object \n",
      " 9   DacDiemNha/Dat   13352 non-null  object \n",
      " 10  TenPhanKhu       1297 non-null   object \n",
      " 11  MaLo             189 non-null    object \n",
      " 12  Gia/Hecta        19 non-null     object \n",
      " 13  TenDuong         4 non-null      float64\n",
      "dtypes: float64(1), object(13)\n",
      "memory usage: 1.8+ MB\n",
      "None\n"
     ]
    }
   ],
   "source": [
    "print(df.info())"
   ]
  },
  {
   "cell_type": "markdown",
   "metadata": {},
   "source": [
    "Sau khi kiểm tra thì thấy mặc dù chỉ có 16990 dòng mà các cột TenPhanKhu, MaLo, Gia/Hecta, TenDuong gần như 90% đến ngưỡng 100% là giá trị null nên sẽ drop các cột này"
   ]
  },
  {
   "cell_type": "code",
   "execution_count": 6,
   "metadata": {},
   "outputs": [],
   "source": [
    "df = df.drop(columns=['TenPhanKhu', 'MaLo', 'Gia/Hecta', 'TenDuong'])\n"
   ]
  },
  {
   "cell_type": "code",
   "execution_count": 7,
   "metadata": {},
   "outputs": [
    {
     "data": {
      "text/html": [
       "<div>\n",
       "<style scoped>\n",
       "    .dataframe tbody tr th:only-of-type {\n",
       "        vertical-align: middle;\n",
       "    }\n",
       "\n",
       "    .dataframe tbody tr th {\n",
       "        vertical-align: top;\n",
       "    }\n",
       "\n",
       "    .dataframe thead th {\n",
       "        text-align: right;\n",
       "    }\n",
       "</style>\n",
       "<table border=\"1\" class=\"dataframe\">\n",
       "  <thead>\n",
       "    <tr style=\"text-align: right;\">\n",
       "      <th></th>\n",
       "      <th>DiaChi</th>\n",
       "      <th>LoaiHinhDat</th>\n",
       "      <th>DienTichDat</th>\n",
       "      <th>Gia/M2</th>\n",
       "      <th>GiayToPhapLy</th>\n",
       "      <th>ChieuNgang</th>\n",
       "      <th>ChieuDai</th>\n",
       "      <th>DonVi(M2/Hecta)</th>\n",
       "      <th>HuongDat</th>\n",
       "      <th>DacDiemNha/Dat</th>\n",
       "    </tr>\n",
       "  </thead>\n",
       "  <tbody>\n",
       "    <tr>\n",
       "      <th>0</th>\n",
       "      <td>Đường Hoàng Bá Huân, Thị trấn Củ Chi, Huyện Củ...</td>\n",
       "      <td>Đất thổ cư</td>\n",
       "      <td>100 m²</td>\n",
       "      <td>6,50 triệu/m²</td>\n",
       "      <td>Đã có sổ</td>\n",
       "      <td>5 m</td>\n",
       "      <td>20 m</td>\n",
       "      <td>m²</td>\n",
       "      <td>NaN</td>\n",
       "      <td>NaN</td>\n",
       "    </tr>\n",
       "    <tr>\n",
       "      <th>1</th>\n",
       "      <td>Mặt Tiền Sông Vàm Thuật, Phường 6, Quận Gò Vấp...</td>\n",
       "      <td>Đất thổ cư</td>\n",
       "      <td>171 m²</td>\n",
       "      <td>178,36 triệu/m²</td>\n",
       "      <td>Đã có sổ</td>\n",
       "      <td>9 m</td>\n",
       "      <td>19 m</td>\n",
       "      <td>NaN</td>\n",
       "      <td>NaN</td>\n",
       "      <td>NaN</td>\n",
       "    </tr>\n",
       "    <tr>\n",
       "      <th>2</th>\n",
       "      <td>Đường Mai Đăng Chơn, Phường Hoà Quý, Quận Ngũ ...</td>\n",
       "      <td>Đất thổ cư</td>\n",
       "      <td>90 m²</td>\n",
       "      <td>21,44 triệu/m²</td>\n",
       "      <td>Đã có sổ</td>\n",
       "      <td>5 m</td>\n",
       "      <td>18 m</td>\n",
       "      <td>NaN</td>\n",
       "      <td>Đông Bắc</td>\n",
       "      <td>Hẻm xe hơi\\nMặt tiền\\nThổ cư toàn bộ</td>\n",
       "    </tr>\n",
       "    <tr>\n",
       "      <th>3</th>\n",
       "      <td>Gần Làng Đại Học Hồ Chí Minh, Phường Bình An, ...</td>\n",
       "      <td>Đất thổ cư</td>\n",
       "      <td>123 m²</td>\n",
       "      <td>22,76 triệu/m²</td>\n",
       "      <td>Đã có sổ</td>\n",
       "      <td>4.1 m</td>\n",
       "      <td>NaN</td>\n",
       "      <td>m²</td>\n",
       "      <td>NaN</td>\n",
       "      <td>NaN</td>\n",
       "    </tr>\n",
       "    <tr>\n",
       "      <th>4</th>\n",
       "      <td>DT517, Xã Đồng Lợi, Huyện Triệu Sơn, Thanh Hóa</td>\n",
       "      <td>Đất thổ cư</td>\n",
       "      <td>109 m²</td>\n",
       "      <td>10,55 triệu/m²</td>\n",
       "      <td>Đã có sổ</td>\n",
       "      <td>5.5 m</td>\n",
       "      <td>20 m</td>\n",
       "      <td>NaN</td>\n",
       "      <td>Đông Nam</td>\n",
       "      <td>Mặt tiền\\nNở hậu\\nThổ cư toàn bộ</td>\n",
       "    </tr>\n",
       "  </tbody>\n",
       "</table>\n",
       "</div>"
      ],
      "text/plain": [
       "                                              DiaChi LoaiHinhDat DienTichDat  \\\n",
       "0  Đường Hoàng Bá Huân, Thị trấn Củ Chi, Huyện Củ...  Đất thổ cư      100 m²   \n",
       "1  Mặt Tiền Sông Vàm Thuật, Phường 6, Quận Gò Vấp...  Đất thổ cư      171 m²   \n",
       "2  Đường Mai Đăng Chơn, Phường Hoà Quý, Quận Ngũ ...  Đất thổ cư       90 m²   \n",
       "3  Gần Làng Đại Học Hồ Chí Minh, Phường Bình An, ...  Đất thổ cư      123 m²   \n",
       "4     DT517, Xã Đồng Lợi, Huyện Triệu Sơn, Thanh Hóa  Đất thổ cư      109 m²   \n",
       "\n",
       "            Gia/M2 GiayToPhapLy ChieuNgang ChieuDai DonVi(M2/Hecta)  HuongDat  \\\n",
       "0    6,50 triệu/m²     Đã có sổ        5 m     20 m              m²       NaN   \n",
       "1  178,36 triệu/m²     Đã có sổ        9 m     19 m             NaN       NaN   \n",
       "2   21,44 triệu/m²     Đã có sổ        5 m     18 m             NaN  Đông Bắc   \n",
       "3   22,76 triệu/m²     Đã có sổ      4.1 m      NaN              m²       NaN   \n",
       "4   10,55 triệu/m²     Đã có sổ      5.5 m     20 m             NaN  Đông Nam   \n",
       "\n",
       "                         DacDiemNha/Dat  \n",
       "0                                   NaN  \n",
       "1                                   NaN  \n",
       "2  Hẻm xe hơi\\nMặt tiền\\nThổ cư toàn bộ  \n",
       "3                                   NaN  \n",
       "4      Mặt tiền\\nNở hậu\\nThổ cư toàn bộ  "
      ]
     },
     "execution_count": 7,
     "metadata": {},
     "output_type": "execute_result"
    }
   ],
   "source": [
    "df.head(5)"
   ]
  },
  {
   "cell_type": "markdown",
   "metadata": {},
   "source": [
    "# Chuẩn hóa dữ liệu"
   ]
  },
  {
   "cell_type": "markdown",
   "metadata": {},
   "source": [
    "## Chuẩn hóa các cột số trước"
   ]
  },
  {
   "cell_type": "markdown",
   "metadata": {},
   "source": [
    "### Diện Tích Đất"
   ]
  },
  {
   "cell_type": "code",
   "execution_count": 8,
   "metadata": {},
   "outputs": [
    {
     "name": "stdout",
     "output_type": "stream",
     "text": [
      "DonVi_DienTich\n",
      "m²          16971\n",
      "hecta          19\n",
      "Không rõ        1\n",
      "Name: count, dtype: int64\n",
      "Các dòng có đơn vị không rõ trong 'DienTichDat':\n",
      "   DienTichDat\n",
      "37         NaN\n",
      "Các dòng có đơn vị không rõ trong 'DienTichDat':\n",
      "        DienTichDat\n",
      "331       1.5 hecta\n",
      "460         4 hecta\n",
      "1251        9 hecta\n",
      "2879      9.8 hecta\n",
      "3180        1 hecta\n",
      "3807      4.2 hecta\n",
      "5508   100000 hecta\n",
      "6162    23000 hecta\n",
      "6992       60 hecta\n",
      "7002        5 hecta\n",
      "7337      2.8 hecta\n",
      "7773        7 hecta\n",
      "9570      4.7 hecta\n",
      "9614        1 hecta\n",
      "10272     2.4 hecta\n",
      "10629     6.5 hecta\n",
      "11003     4.1 hecta\n",
      "12218     1.4 hecta\n",
      "15356    2.34 hecta\n"
     ]
    }
   ],
   "source": [
    "#1 hecta = 10000 mét vuông\n",
    "# Trích đơn vị bằng cách tách sau dấu cách cuối cùng\n",
    "df['DonVi_DienTich'] = df['DienTichDat'].astype(str).apply(lambda x: x.split()[-1] if ' ' in x else 'Không rõ')\n",
    "\n",
    "# Xem tất cả đơn vị xuất hiện\n",
    "print(df['DonVi_DienTich'].value_counts())\n",
    "df_khong_ro = df[df['DonVi_DienTich'] == 'Không rõ']\n",
    "df_hecta = df[df['DonVi_DienTich'] == 'hecta']\n",
    "\n",
    "print(\"Các dòng có đơn vị không rõ trong 'DienTichDat':\")\n",
    "print(df_khong_ro[['DienTichDat']])\n",
    "\n",
    "print(\"Các dòng có đơn vị không rõ trong 'DienTichDat':\")\n",
    "print(df_hecta[['DienTichDat']])\n",
    "\n",
    "\n"
   ]
  },
  {
   "cell_type": "markdown",
   "metadata": {},
   "source": [
    "Có thể thấy là trong cột Diện Tích Đất thì chỉ có 2 dữ liệu là m² và hecta, còn Không rõ là cột bị Nan nên sẽ drop cột đó luôn"
   ]
  },
  {
   "cell_type": "code",
   "execution_count": 9,
   "metadata": {},
   "outputs": [
    {
     "name": "stdout",
     "output_type": "stream",
     "text": [
      "Số dòng còn lại sau khi xoá: 16990\n",
      "0\n"
     ]
    }
   ],
   "source": [
    "df = df.dropna(subset=['DienTichDat'])\n",
    "print(f\"Số dòng còn lại sau khi xoá: {len(df)}\")\n",
    "print(df['DienTichDat'].isnull().sum())  # Kiểm tra còn NaN không\n"
   ]
  },
  {
   "cell_type": "code",
   "execution_count": 10,
   "metadata": {},
   "outputs": [],
   "source": [
    "df['DienTichDat'] = df['DienTichDat'].apply(chuyen_dien_tich_sang_m2)\n"
   ]
  },
  {
   "cell_type": "markdown",
   "metadata": {},
   "source": [
    "### Chiều ngang"
   ]
  },
  {
   "cell_type": "code",
   "execution_count": 12,
   "metadata": {},
   "outputs": [
    {
     "name": "stdout",
     "output_type": "stream",
     "text": [
      "ChieuNgang\n",
      "m           14240\n",
      "Không rõ     2750\n",
      "Name: count, dtype: int64\n",
      "Các dòng có đơn vị không rõ trong 'ChieuNgang':\n",
      "      ChieuNgang\n",
      "12      Không rõ\n",
      "36      Không rõ\n",
      "42      Không rõ\n",
      "47      Không rõ\n",
      "49      Không rõ\n",
      "...          ...\n",
      "16971   Không rõ\n",
      "16980   Không rõ\n",
      "16981   Không rõ\n",
      "16982   Không rõ\n",
      "16990   Không rõ\n",
      "\n",
      "[2750 rows x 1 columns]\n"
     ]
    }
   ],
   "source": [
    "df['ChieuNgang'] = df['ChieuNgang'].astype(str).apply(lambda x: x.split()[-1] if ' ' in x else 'Không rõ')\n",
    "\n",
    "# Xem tất cả đơn vị xuất hiện\n",
    "print(df['ChieuNgang'].value_counts())\n",
    "df_khong_ro = df[df['ChieuNgang'] == 'Không rõ']\n",
    "print(\"Các dòng có đơn vị không rõ trong 'ChieuNgang':\")\n",
    "print(df_khong_ro[['ChieuNgang']])\n"
   ]
  },
  {
   "cell_type": "markdown",
   "metadata": {},
   "source": []
  }
 ],
 "metadata": {
  "kernelspec": {
   "display_name": "Python 3",
   "language": "python",
   "name": "python3"
  },
  "language_info": {
   "codemirror_mode": {
    "name": "ipython",
    "version": 3
   },
   "file_extension": ".py",
   "mimetype": "text/x-python",
   "name": "python",
   "nbconvert_exporter": "python",
   "pygments_lexer": "ipython3",
   "version": "3.12.4"
  }
 },
 "nbformat": 4,
 "nbformat_minor": 2
}
